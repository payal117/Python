{
  "nbformat": 4,
  "nbformat_minor": 0,
  "metadata": {
    "colab": {
      "name": "Python_Assignment.ipynb",
      "provenance": [],
      "collapsed_sections": []
    },
    "kernelspec": {
      "name": "python3",
      "display_name": "Python 3"
    },
    "language_info": {
      "name": "python"
    }
  },
  "cells": [
    {
      "cell_type": "code",
      "metadata": {
        "colab": {
          "base_uri": "https://localhost:8080/"
        },
        "id": "WPAQJHLetOpr",
        "outputId": "45b44a17-d8f3-48d0-85f2-4e76ff135a24"
      },
      "source": [
        "input_list =['SAS','R','PYTHON','SPSS']\n",
        "input_list"
      ],
      "execution_count": 36,
      "outputs": [
        {
          "output_type": "execute_result",
          "data": {
            "text/plain": [
              "['SAS', 'R', 'PYTHON', 'SPSS']"
            ]
          },
          "metadata": {
            "tags": []
          },
          "execution_count": 36
        }
      ]
    },
    {
      "cell_type": "code",
      "metadata": {
        "colab": {
          "base_uri": "https://localhost:8080/"
        },
        "id": "5FLMEgeB__0s",
        "outputId": "e4b10034-08b8-415d-9be0-bb6c62bd76ad"
      },
      "source": [
        "type(input_list)"
      ],
      "execution_count": 37,
      "outputs": [
        {
          "output_type": "execute_result",
          "data": {
            "text/plain": [
              "list"
            ]
          },
          "metadata": {
            "tags": []
          },
          "execution_count": 37
        }
      ]
    },
    {
      "cell_type": "code",
      "metadata": {
        "id": "jfjVO1YUCuHA"
      },
      "source": [
        "input_list\n",
        "input_list.remove('SPSS')\n"
      ],
      "execution_count": 38,
      "outputs": []
    },
    {
      "cell_type": "code",
      "metadata": {
        "colab": {
          "base_uri": "https://localhost:8080/"
        },
        "id": "yG-jEF89Dnhr",
        "outputId": "bac3adf9-e1ae-4397-c3fc-dbc99958082a"
      },
      "source": [
        "input_list"
      ],
      "execution_count": 39,
      "outputs": [
        {
          "output_type": "execute_result",
          "data": {
            "text/plain": [
              "['SAS', 'R', 'PYTHON']"
            ]
          },
          "metadata": {
            "tags": []
          },
          "execution_count": 39
        }
      ]
    },
    {
      "cell_type": "code",
      "metadata": {
        "colab": {
          "base_uri": "https://localhost:8080/"
        },
        "id": "l66tqBOjAL0d",
        "outputId": "52fafdd5-c374-42c3-a5e2-75898e52cf87"
      },
      "source": [
        "input_list.append(\"SPARK\")\n",
        "input_list\n"
      ],
      "execution_count": 44,
      "outputs": [
        {
          "output_type": "execute_result",
          "data": {
            "text/plain": [
              "['SAS', 'R', 'PYTHON', 'SPARK', 'SPARK']"
            ]
          },
          "metadata": {
            "tags": []
          },
          "execution_count": 44
        }
      ]
    },
    {
      "cell_type": "code",
      "metadata": {
        "colab": {
          "base_uri": "https://localhost:8080/",
          "height": 35
        },
        "id": "5pHUrY8GG1aP",
        "outputId": "a171e12e-e1b2-4713-918d-6a5a45a64362"
      },
      "source": [
        "#String to List conversion\n",
        "\n",
        "input_str=\"I love Data Science & Python\"\n",
        "list1= list (input_str.split(\"&\"))\n",
        "input_str"
      ],
      "execution_count": 47,
      "outputs": [
        {
          "output_type": "execute_result",
          "data": {
            "application/vnd.google.colaboratory.intrinsic+json": {
              "type": "string"
            },
            "text/plain": [
              "'I love Data Science & Python'"
            ]
          },
          "metadata": {
            "tags": []
          },
          "execution_count": 47
        }
      ]
    },
    {
      "cell_type": "code",
      "metadata": {
        "colab": {
          "base_uri": "https://localhost:8080/"
        },
        "id": "IC53MuZuHXw6",
        "outputId": "e43d7d81-37dd-4b68-c580-e2619f6b500a"
      },
      "source": [
        "list1"
      ],
      "execution_count": 48,
      "outputs": [
        {
          "output_type": "execute_result",
          "data": {
            "text/plain": [
              "['I love Data Science ', ' Python']"
            ]
          },
          "metadata": {
            "tags": []
          },
          "execution_count": 48
        }
      ]
    },
    {
      "cell_type": "code",
      "metadata": {
        "colab": {
          "base_uri": "https://localhost:8080/"
        },
        "id": "zkED3LWoIXxm",
        "outputId": "6440c77c-c883-47d8-a67b-90314f0cc504"
      },
      "source": [
        "# List to string conversion\n",
        "list2 = ['Python syntax is easy to learn','Python syntax is very clear']\n",
        "list2\n",
        "\n"
      ],
      "execution_count": 55,
      "outputs": [
        {
          "output_type": "execute_result",
          "data": {
            "text/plain": [
              "['Python syntax is easy to learn', 'Python syntax is very clear']"
            ]
          },
          "metadata": {
            "tags": []
          },
          "execution_count": 55
        }
      ]
    },
    {
      "cell_type": "code",
      "metadata": {
        "colab": {
          "base_uri": "https://localhost:8080/"
        },
        "id": "aLLSMkzuLxBV",
        "outputId": "2becd74e-70b3-466d-85b1-97ac6aa99b20"
      },
      "source": [
        "str1=' & '\n",
        "print (str1.join(list2))\n"
      ],
      "execution_count": 92,
      "outputs": [
        {
          "output_type": "stream",
          "text": [
            "Python syntax is easy to learn & Python syntax is very clear\n"
          ],
          "name": "stdout"
        }
      ]
    },
    {
      "cell_type": "code",
      "metadata": {
        "colab": {
          "base_uri": "https://localhost:8080/"
        },
        "id": "M621X6T-NKW3",
        "outputId": "98f8749a-487d-4a04-fe91-25fcf1484840"
      },
      "source": [
        "#Nested List\n",
        "input_list =[['SAS','R'],['Tableau','SQL'],['Python','Java']]\n",
        "input_list"
      ],
      "execution_count": 73,
      "outputs": [
        {
          "output_type": "execute_result",
          "data": {
            "text/plain": [
              "[['SAS', 'R'], ['Tableau', 'SQL'], ['Python', 'Java']]"
            ]
          },
          "metadata": {
            "tags": []
          },
          "execution_count": 73
        }
      ]
    },
    {
      "cell_type": "code",
      "metadata": {
        "colab": {
          "base_uri": "https://localhost:8080/",
          "height": 35
        },
        "id": "zMyPbK_JN5a6",
        "outputId": "c8e47500-b375-4fd2-8d9b-68bae28d1bca"
      },
      "source": [
        "input_list[2][0]"
      ],
      "execution_count": 75,
      "outputs": [
        {
          "output_type": "execute_result",
          "data": {
            "application/vnd.google.colaboratory.intrinsic+json": {
              "type": "string"
            },
            "text/plain": [
              "'Python'"
            ]
          },
          "metadata": {
            "tags": []
          },
          "execution_count": 75
        }
      ]
    },
    {
      "cell_type": "code",
      "metadata": {
        "colab": {
          "base_uri": "https://localhost:8080/"
        },
        "id": "U8nI5XLwQFUm",
        "outputId": "f3c20873-2bf5-43ad-8ea7-343ef7cf50e1"
      },
      "source": [
        "t=(\"disco\",12,4.5)\n",
        "t\n"
      ],
      "execution_count": 78,
      "outputs": [
        {
          "output_type": "execute_result",
          "data": {
            "text/plain": [
              "('disco', 12, 4.5)"
            ]
          },
          "metadata": {
            "tags": []
          },
          "execution_count": 78
        }
      ]
    },
    {
      "cell_type": "code",
      "metadata": {
        "colab": {
          "base_uri": "https://localhost:8080/",
          "height": 35
        },
        "id": "cqjnu5g1QfEt",
        "outputId": "64a68cc9-19bd-48ec-9bfe-f88e7a4318ac"
      },
      "source": [
        "t[0][2]"
      ],
      "execution_count": 79,
      "outputs": [
        {
          "output_type": "execute_result",
          "data": {
            "application/vnd.google.colaboratory.intrinsic+json": {
              "type": "string"
            },
            "text/plain": [
              "'s'"
            ]
          },
          "metadata": {
            "tags": []
          },
          "execution_count": 79
        }
      ]
    },
    {
      "cell_type": "code",
      "metadata": {
        "colab": {
          "base_uri": "https://localhost:8080/"
        },
        "id": "LAKiJeNPRS0V",
        "outputId": "47e68f81-6b23-499a-ca32-d58763d93202"
      },
      "source": [
        "# String is palindrome or not\n",
        "val =input(\"Enter a string : \")\n",
        "ans = val == val[::-1]\n",
        "if ans:\n",
        "   print(1)\n",
        "else:\n",
        "   print(0)  "
      ],
      "execution_count": 85,
      "outputs": [
        {
          "output_type": "stream",
          "text": [
            "Enter a string : malam\n",
            "1\n"
          ],
          "name": "stdout"
        }
      ]
    },
    {
      "cell_type": "code",
      "metadata": {
        "colab": {
          "base_uri": "https://localhost:8080/"
        },
        "id": "YvN39zjYTVMK",
        "outputId": "82a104fe-eef2-454b-a2f8-50a7c39a1217"
      },
      "source": [
        "# Reverse the order of words in sentence\n",
        "s = input(\"Enter a string: \")\n",
        "op= s.split(' ')\n",
        "ans =' '.join(reversed(op))\n",
        "print(ans)"
      ],
      "execution_count": 97,
      "outputs": [
        {
          "output_type": "stream",
          "text": [
            "Enter a string: Python is a subset of BigData\n",
            "BigData of subset a is Python\n"
          ],
          "name": "stdout"
        }
      ]
    }
  ]
}